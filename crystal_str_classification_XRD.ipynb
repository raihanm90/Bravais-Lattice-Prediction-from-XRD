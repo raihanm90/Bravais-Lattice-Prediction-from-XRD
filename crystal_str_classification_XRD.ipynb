{
 "cells": [
  {
   "cell_type": "code",
   "execution_count": 1,
   "metadata": {
    "_cell_guid": "b1076dfc-b9ad-4769-8c92-a6c4dae69d19",
    "_uuid": "8f2839f25d086af736a60e9eeb907d3b93b6e0e5"
   },
   "outputs": [],
   "source": [
    "# Import libraries\n",
    "\n",
    "import numpy as np # linear algebra\n",
    "import pandas as pd # data processing, CSV file I/O (e.g. pd.read_csv)\n",
    "\n",
    "from pprint import pprint\n",
    "from scipy import constants\n",
    "from scipy import stats\n",
    "from scipy import signal\n",
    "from scipy import fft\n",
    "\n",
    "import matplotlib.pyplot as plt\n",
    "from io import StringIO\n",
    "from numpy import random\n",
    "\n",
    "import plotly.graph_objects as go\n",
    "import seaborn as sns\n",
    "import matplotlib as mpl\n",
    "\n",
    "import requests\n"
   ]
  },
  {
   "cell_type": "markdown",
   "metadata": {},
   "source": [
    "# Loading datasets, Extracting features and training labels"
   ]
  },
  {
   "cell_type": "markdown",
   "metadata": {},
   "source": [
    "I extracted features using the fact that (sin(theta))^2 values at the peaks in the XRD data are related to h^2+k^2+l^2 values and they need to be an integer. Since here I don't know the lattice parameter and other structural information, I used the ratio of (sin(theta))^2 as my features. Since number of peaks can be different, I used the histogram to get equal feature size for all datas alongwith taking the information of the peaks. In my feature list, the bin size is a variable as it is part of the feature engineering. For random forest classifier, I showed how this feature engineering can come into play.\n",
    "\n",
    "Secondly, sin(theta) values are related with q parameter. Since for XRD we don't know the phase information, it is hard to use Fourier transform to back track the diffraction planes. However, since sin(theta) is related with q and data points are given in 2*theta, I used Discrete Sine Transform (DST) of type 4 to extract another set of parameters. DST transform takes the whole spectrum into account whereas the (sin(theta))^2 takes only the information of the peak locations. Again, for my models I have the option to tune the number of DST coefficients for calculation. As in the random forest classifier, it is shown that number of DST coefficients can also play a role in the model's accuracy.\n",
    "\n",
    "Based on this material properties, I extracted my features and then applied 4 machine learning models. I optimized 4 models (Naive Bayes, KNN, Random Forest Classfier and lightgbm (Gradient boost classifier))."
   ]
  },
  {
   "cell_type": "code",
   "execution_count": 2,
   "metadata": {},
   "outputs": [],
   "source": [
    "# function for calculating features\n",
    "def calculate_features(data_filepath,nbins_sin2theta_s,strt_bin,end_bin,coeff_num):\n",
    "    # data_filepath: location of csv file containing data for XRD from angle 0.5 to 180 degrees in y0 to y179 columns\n",
    "    #                and labels for bravais lattice in \"bravais_lattice\" column\n",
    "    # nbins_sin2theta_s,strt_bin,end_bin: binning conditions for (sin(theta))^2 from 'strt_bin' to 'end_bin' in 'nbins_sin2theta_s' bins\n",
    "    # coeff_num: number of coefficients of DST transform of XRD data used for classification\n",
    "    # calc_features: list of all features without applying (sin(theta))^2 binning or isolating DST coefficients\n",
    "    # final_feature: dataframe containing list of features that will be used for final classification\n",
    "    \n",
    "    # loading data in dataframe\n",
    "    orig_data=pd.read_csv(data_filepath,na_filter=False)\n",
    "    # isolating columns of the XRD data\n",
    "    orig_features=orig_data.filter(regex='^y')\n",
    "    calc_features=orig_features.copy()\n",
    "    #combination of all intensity data\n",
    "    calc_features['combined_data']=calc_features.values.tolist()\n",
    "\n",
    "    #find the peak indices\n",
    "    calc_features['peak_indices']=calc_features.apply(lambda x: signal.find_peaks(x['combined_data']),axis=1)\n",
    "\n",
    "    #find the peak heights, widths and prominences\n",
    "    calc_features['peak_heights']=calc_features.apply(lambda x: [x['combined_data'][j] for j in x['peak_indices'][0]],axis=1)\n",
    "    calc_features['peak_widths']=calc_features.apply(lambda x: signal.peak_widths(x['combined_data'],x['peak_indices'][0])[0],axis=1)\n",
    "    calc_features['peak_prominences']=calc_features.apply(lambda x: signal.peak_prominences(x['combined_data'],x['peak_indices'][0])[0],axis=1)\n",
    "\n",
    "    # find the corresponding sin(theta), (sin(theta))^2\n",
    "    calc_features['peak_angles (2theta Deg)']=calc_features.apply(lambda x: (x['peak_indices'][0]+1)*0.5,axis=1)\n",
    "    calc_features['sin(theta)_peak']=calc_features.apply(lambda x: np.sin(np.deg2rad(x['peak_angles (2theta Deg)']/2)),axis=1)\n",
    "    calc_features['sin2theta_peak']=calc_features.apply(lambda x: x['sin(theta)_peak']**2,axis=1)\n",
    "\n",
    "    # normalize (sin(theta))^2 based on the first peak as this value corresponds to h^2+k^2+l^2\n",
    "    calc_features['sin2theta_ratio_peak']=calc_features.apply(lambda x: x['sin2theta_peak']/x['sin2theta_peak'][0],axis=1)\n",
    "\n",
    "    # find total number of peak in the XRD data\n",
    "    calc_features['peak_num_tot']=calc_features.apply(lambda x: len(x['peak_heights']),axis=1)\n",
    "\n",
    "    # Calculate statistics of peak heights\n",
    "    calc_features['skew_peak_heights']=calc_features.apply(lambda x: stats.skew(x['peak_heights']),axis=1)\n",
    "    calc_features['kurt_peak_heights']=calc_features.apply(lambda x: stats.kurtosis(x['peak_heights']),axis=1)\n",
    "\n",
    "    # find discrete sin transform coefficients and normalize it\n",
    "    calc_features['dst_4']=calc_features.apply(lambda x: fft.dst(x['combined_data'],type=4),axis=1)\n",
    "    calc_features['dst_4_rat']=calc_features.apply(lambda x: x['dst_4']/abs(x['dst_4'][0]),axis=1)\n",
    "\n",
    "    # convert discrete_sin_transform ration features into dataframe\n",
    "    dst_transform_features=pd.DataFrame(list(calc_features.apply(lambda x: x['dst_4_rat'], axis=1)),columns=[\"DST_coeff_ratio\"+str(j) for j in range(1,181)])\n",
    "\n",
    "    # since ration of (sin(theta))^2 represents the (h,k,l) plane and the maximum value represents the number of symmetry in a way\n",
    "    calc_features['max_sin2theta_ratio_peak']=calc_features.apply(lambda x: max(x['sin2theta_ratio_peak']),axis=1)\n",
    "\n",
    "    # since in two data points there are only 2 peaks, so I used the value of 2nd ratio. For example for CF it should be 1.33, \n",
    "    # for CP it should be 2 and so on. It helps me to identify cubic crystals. Also the ration of total number of peaks to\n",
    "    # (sin(theta))^2 ration can indicate the missing number of (h+k+l). So I added that as a feature.\n",
    "    calc_features['sin2theta_2nd']=calc_features.apply(lambda x: x['sin2theta_ratio_peak'][1],axis=1)\n",
    "    calc_features['ration_totPeak_maxsin2thetaratio']=calc_features.peak_num_tot/calc_features.max_sin2theta_ratio_peak\n",
    "    # add some statistical features of the (sin(theta))^2 ratios\n",
    "    calc_features['mean_sin2theta_ratio_peak']=calc_features.apply(lambda x: np.mean(x['sin2theta_ratio_peak']),axis=1)\n",
    "    calc_features['std_sin2theta_ratio_peak']=calc_features.apply(lambda x: np.std(x['sin2theta_ratio_peak']),axis=1)\n",
    "\n",
    "    # add some statistical features of the peak heights \n",
    "    calc_features['std_peak_heights']=calc_features.apply(lambda x: np.std(x['peak_heights']),axis=1)\n",
    "    calc_features['mean_peak_heights']=calc_features.apply(lambda x: np.mean(x['peak_heights']),axis=1)\n",
    "\n",
    "\n",
    "    # binning (sin(theta))^2 from 'strt_bin' to 'end_bin' in 'nbins_sin2theta_s' bins.\n",
    "    # since number of (sin(theta))^2 values are different for different samples, I am using histogram to get similar number\n",
    "    # of features in all samples. My bin width is 0.333 as in hexagonal, FCC the divide by 3 is important.\n",
    "    # nbins_sin2theta_s=45;strt_bin=1;end_bin=16;\n",
    "    sin2theta_s_stat_feature=pd.DataFrame(list(calc_features.apply(lambda x: np.histogram(x['sin2theta_ratio_peak'],bins=nbins_sin2theta_s,range=(strt_bin,end_bin),density=False)[0],axis=1)),columns=[\"sin2theta_bin\"+str(j) for j in range(nbins_sin2theta_s)])\n",
    "\n",
    "    # number of coefficients that will be considered in the final feature lists from DST transform\n",
    "    #coeff_num=20;\n",
    "\n",
    "    # Construction of final feature dataframe\n",
    "    final_feature=calc_features.loc[:,'max_sin2theta_ratio_peak':]\n",
    "    final_feature=final_feature.join(sin2theta_s_stat_feature)\n",
    "    final_feature=final_feature.join(dst_transform_features.iloc[:,1:coeff_num+1])\n",
    "    \n",
    "    return calc_features, final_feature"
   ]
  },
  {
   "cell_type": "code",
   "execution_count": 3,
   "metadata": {},
   "outputs": [],
   "source": [
    "# function for extracting labels\n",
    "def extract_labels(data_filepath):\n",
    "    #extract labels from the column 'bravais_lattice' of the csv file located in the 'data_filepath'\n",
    "    # loading data in dataframe\n",
    "    orig_data=pd.read_csv(data_filepath,na_filter=False)\n",
    "    orig_labels=orig_data['bravais_lattice']\n",
    "    return orig_labels"
   ]
  },
  {
   "cell_type": "code",
   "execution_count": 4,
   "metadata": {},
   "outputs": [],
   "source": [
    "# location of training data file and kaggle data file\n",
    "training_data_filepath=\"C:\\\\Users\\\\Raihan\\\\Nano281_project\\\\cod_xrd_42k.csv\"\n",
    "kaggle_data_filepath=\"C:\\\\Users\\\\Raihan\\\\Nano281_project\\\\test.csv\"\n",
    "\n",
    "# feature size can be varied based on the binning parameters and number of DST coefficients.\n",
    "# For model optimization the following parameters are used. Later it will be varied to get the\n",
    "# optimum performance of different models\n",
    "\n",
    "nbin_sin2theta=45;start_bin=1;end_bin=16;dst_coeff=20;\n",
    "# calculate features for training dataset (cod_xrd_42k.csv)\n",
    "base_feature_training,final_feature_training_45_20=calculate_features(training_data_filepath,nbin_sin2theta,start_bin,end_bin,dst_coeff)\n",
    "\n",
    "# calculate features for kaggle dataset (test.csv)\n",
    "base_feature_kaggle,final_feature_kaggle_45_20=calculate_features(kaggle_data_filepath,nbin_sin2theta,start_bin,end_bin,dst_coeff)"
   ]
  },
  {
   "cell_type": "code",
   "execution_count": 5,
   "metadata": {},
   "outputs": [],
   "source": [
    "# extract training labels and encode labels in numerical values\n",
    "from sklearn import preprocessing\n",
    "orig_labels=extract_labels(training_data_filepath)\n",
    "le = preprocessing.LabelEncoder()\n",
    "le.fit(orig_labels)\n",
    "original_labels = le.transform(orig_labels)"
   ]
  },
  {
   "cell_type": "markdown",
   "metadata": {},
   "source": [
    "# Data pre-processing"
   ]
  },
  {
   "cell_type": "code",
   "execution_count": 6,
   "metadata": {},
   "outputs": [],
   "source": [
    "# Splitting training data with 10% unseen data for model validation\n",
    "from sklearn.model_selection import train_test_split\n",
    "x_train_45_20, x_test_45_20, y_train_45_20, y_test_45_20 = train_test_split(final_feature_training_45_20, original_labels, test_size=0.1, random_state=0)"
   ]
  },
  {
   "cell_type": "code",
   "execution_count": 7,
   "metadata": {},
   "outputs": [],
   "source": [
    "# Scaling data for better model performance\n",
    "from sklearn.preprocessing import MinMaxScaler\n",
    "minmax_scaler=MinMaxScaler()\n",
    "\n",
    "minmax_scaler_45_20=minmax_scaler\n",
    "minmax_scaler_45_20.fit(x_train_45_20)\n",
    "x_test_scaled_45_20=minmax_scaler_45_20.transform(x_test_45_20)\n",
    "x_train_scaled_45_20=minmax_scaler_45_20.transform(x_train_45_20)\n",
    "kaggle_scaled_45_20=minmax_scaler_45_20.transform(final_feature_kaggle_45_20)"
   ]
  },
  {
   "cell_type": "markdown",
   "metadata": {},
   "source": [
    "# Model Selection"
   ]
  },
  {
   "cell_type": "code",
   "execution_count": 8,
   "metadata": {},
   "outputs": [],
   "source": [
    "# functions for plotting the grid search values\n",
    "from sklearn.metrics import mean_squared_error, accuracy_score, roc_curve, roc_auc_score\n",
    "from sklearn.model_selection import GridSearchCV, KFold, StratifiedKFold\n",
    "def plot_grid_search_results(gs, plot_type='bar', ylim=None):\n",
    "    \"\"\"\n",
    "    Plots the results of GridSearchCV.\n",
    "    \"\"\"\n",
    "    results = pd.DataFrame(gs.cv_results_)\n",
    "    for c in results.columns:\n",
    "        # Note that here we are working with just variations in one parameter.\n",
    "        # So we can automatically find the name of that parameter.\n",
    "        if c.startswith(\"param_\"):\n",
    "            x = c\n",
    "            break\n",
    "    results = results.melt(id_vars=[x], value_vars=['mean_train_score', 'mean_test_score'],\n",
    "        var_name=\"type\", value_name='score')\n",
    "    fig, ax = plt.subplots(figsize=(16, 8))\n",
    "    if plot_type == \"bar\":\n",
    "        ax = sns.barplot(x=x, y=\"score\", hue='type', data=results)\n",
    "    else:\n",
    "        ax = sns.scatterplot(x=x, y=\"score\", hue='type', data=results)\n",
    "    plt.xlabel(x)\n",
    "    if ylim:\n",
    "        plt.ylim(ylim)\n",
    "    return fig\n",
    "\n",
    "def plot_grid_search_results2(gs, ylim=None):\n",
    "    \"\"\"\n",
    "    Plots the results of GridSearchCV.\n",
    "    \n",
    "    Args:\n",
    "        gs: A GridSearchCV object.\n",
    "        ylim: Optional setting for y limits.\n",
    "    \"\"\"\n",
    "    results = pd.DataFrame(gs.cv_results_)\n",
    "    for c in results.columns:\n",
    "        # Note that here we are working with just variations in one parameter.\n",
    "        # So we can automatically find the name of that parameter.\n",
    "        if c.startswith(\"param_\"):\n",
    "            x = c\n",
    "            break\n",
    "    fig, ax = plt.subplots(figsize=(12, 6))    \n",
    "    ax = sns.lineplot(x=x, y=\"mean_train_score\", data=results)\n",
    "    ax = sns.scatterplot(x=x, y=\"mean_train_score\", data=results, marker='x')\n",
    "    ax = sns.lineplot(x=x, y=\"mean_test_score\", data=results)\n",
    "    ax = sns.scatterplot(x=x, y=\"mean_test_score\", data=results, marker='o')\n",
    "    plt.xlabel(x)\n",
    "    if ylim:\n",
    "        plt.ylim(ylim)\n",
    "    ax.legend([\"Train\", \"Test\"], loc=2);\n",
    "    \n",
    "def plotly_grid_search_results(gs, plot_type='bar', ylim=None):\n",
    "    \"\"\"\n",
    "    Plots the results of GridSearchCV.\n",
    "    \"\"\"\n",
    "    results = pd.DataFrame(gs.cv_results_)\n",
    "    for c in results.columns:\n",
    "        # Note that here we are working with just variations in one parameter.\n",
    "        # So we can automatically find the name of that parameter.\n",
    "        if c.startswith(\"param_\"):\n",
    "            x = c\n",
    "            break\n",
    "    results = pd.DataFrame(gs.cv_results_)\n",
    "    if plot_type == \"bar\":\n",
    "        xval = [\"(%s)\" % l if not isinstance(l, tuple) else str(l) for l in results[x]]\n",
    "        fig = go.Figure(data=[\n",
    "            go.Bar(name='Train', x=xval, y=results['mean_train_score']),\n",
    "            go.Bar(name='Test', x=xval, y=results['mean_test_score'])\n",
    "        ])\n",
    "        fig.update_layout(barmode='group')\n",
    "    else:\n",
    "        fig = go.Figure(data=[\n",
    "            go.Scatter(name='Train', x=results[x], y=results['mean_train_score']),\n",
    "            go.Scatter(name='Test', x=results[x], y=results['mean_test_score'])\n",
    "        ])\n",
    "    fig.update_xaxes(title_text=x)\n",
    "    fig.update_yaxes(title_text='Score')\n",
    "    return fig\n",
    "    \n",
    "kfold = StratifiedKFold(n_splits=5, shuffle=True, random_state=42)"
   ]
  },
  {
   "cell_type": "markdown",
   "metadata": {},
   "source": [
    "## Naive Bayes"
   ]
  },
  {
   "cell_type": "markdown",
   "metadata": {},
   "source": [
    "Two different types of Naive Bayes algorithm are tried. One is the categoricalNB and another is the GaussianNB."
   ]
  },
  {
   "cell_type": "code",
   "execution_count": 18,
   "metadata": {},
   "outputs": [
    {
     "data": {
      "text/plain": [
       "(0.11596513605442177, 0.10760401721664276)"
      ]
     },
     "execution_count": 18,
     "metadata": {},
     "output_type": "execute_result"
    }
   ],
   "source": [
    "from sklearn.naive_bayes import CategoricalNB, GaussianNB\n",
    "\n",
    "# CategoricalNB\n",
    "cnb = CategoricalNB()\n",
    "cnb.fit(x_train_scaled_45_20, y_train_45_20)\n",
    "y_pred_train_cnb = cnb.predict(x_train_scaled_45_20)\n",
    "y_pred_test_cnb = cnb.predict(x_test_scaled_45_20)\n",
    "accuracy_train_cnb=(y_train_45_20 == y_pred_train_cnb).sum()/x_train_scaled_45_20.shape[0]\n",
    "accuracy_test_cnb=(y_test_45_20 == y_pred_test_cnb).sum()/x_test_scaled_45_20.shape[0]\n",
    "\n",
    "accuracy_train_cnb,accuracy_test_cnb"
   ]
  },
  {
   "cell_type": "markdown",
   "metadata": {},
   "source": [
    "Initial accuracty for categoricalNB is very low. Instead of optimizing this model I used GaussianNB model next"
   ]
  },
  {
   "cell_type": "code",
   "execution_count": 19,
   "metadata": {},
   "outputs": [
    {
     "data": {
      "text/plain": [
       "(0.30747767857142855, 0.2996174079387853)"
      ]
     },
     "execution_count": 19,
     "metadata": {},
     "output_type": "execute_result"
    }
   ],
   "source": [
    "gnb = GaussianNB()\n",
    "gnb.fit(x_train_scaled_45_20, y_train_45_20)\n",
    "y_pred_train_gnb = gnb.predict(x_train_scaled_45_20)\n",
    "y_pred_test_gnb = gnb.predict(x_test_scaled_45_20)\n",
    "accuracy_train_gnb=(y_train_45_20 == y_pred_train_gnb).sum()/x_train_scaled_45_20.shape[0]\n",
    "accuracy_test_gnb=(y_test_45_20 == y_pred_test_gnb).sum()/x_test_scaled_45_20.shape[0]\n",
    "\n",
    "accuracy_train_gnb,accuracy_test_gnb"
   ]
  },
  {
   "cell_type": "markdown",
   "metadata": {},
   "source": [
    "The accuracy of the GaussianNB is about 29.96% for the model validation. I try to optimize the model next."
   ]
  },
  {
   "cell_type": "code",
   "execution_count": 20,
   "metadata": {},
   "outputs": [
    {
     "data": {
      "image/png": "[encoded data removed]",
      "text/plain": [
       "<Figure size 864x432 with 1 Axes>"
      ]
     },
     "metadata": {
      "needs_background": "light"
     },
     "output_type": "display_data"
    }
   ],
   "source": [
    "gs = GridSearchCV(\n",
    "    gnb,\n",
    "    param_grid={\"var_smoothing\": np.logspace(-11, -1, 11)},\n",
    "    return_train_score=True,\n",
    "    scoring=\"accuracy\",\n",
    "    cv=kfold,\n",
    ")\n",
    "\n",
    "gs.fit(x_train_scaled_45_20, y_train_45_20)\n",
    "plot_grid_search_results2(gs)\n",
    "plt.ylabel(\"accuracy\");plt.xscale(\"log\")\n",
    "plt.grid(True)"
   ]
  },
  {
   "cell_type": "markdown",
   "metadata": {},
   "source": [
    "The maximum accuracy can be achieved with the var_smoothing=1e-3 for this classifier and the accuracy of the cross validated testing data is around 31%. To further prove this, the model is run again with the optimized parameter and accuracy for the unseen data is calculated."
   ]
  },
  {
   "cell_type": "code",
   "execution_count": 21,
   "metadata": {},
   "outputs": [
    {
     "data": {
      "text/plain": [
       "(0.3138020833333333, 0.30416068866571017)"
      ]
     },
     "execution_count": 21,
     "metadata": {},
     "output_type": "execute_result"
    }
   ],
   "source": [
    "gnb = GaussianNB(var_smoothing=1e-3)\n",
    "gnb.fit(x_train_scaled_45_20, y_train_45_20)\n",
    "y_pred_train_gnb = gnb.predict(x_train_scaled_45_20)\n",
    "y_pred_test_gnb = gnb.predict(x_test_scaled_45_20)\n",
    "accuracy_train_gnb=(y_train_45_20 == y_pred_train_gnb).sum()/x_train_scaled_45_20.shape[0]\n",
    "accuracy_test_gnb=(y_test_45_20 == y_pred_test_gnb).sum()/x_test_scaled_45_20.shape[0]\n",
    "\n",
    "accuracy_train_gnb,accuracy_test_gnb"
   ]
  },
  {
   "cell_type": "markdown",
   "metadata": {},
   "source": [
    "The accuracy of the GaussianNB model with the unseen data is 30.42%"
   ]
  },
  {
   "cell_type": "markdown",
   "metadata": {},
   "source": [
    "## kNN Classifier"
   ]
  },
  {
   "cell_type": "markdown",
   "metadata": {},
   "source": [
    "For kNN Classifier, at first the model was built with defuault parameters (n_neighbors=5 and p=2). "
   ]
  },
  {
   "cell_type": "code",
   "execution_count": 46,
   "metadata": {},
   "outputs": [
    {
     "data": {
      "text/plain": [
       "(0.6003401360544217, 0.42802486848397897)"
      ]
     },
     "execution_count": 46,
     "metadata": {},
     "output_type": "execute_result"
    }
   ],
   "source": [
    "from sklearn.neighbors import KNeighborsClassifier\n",
    "knn = KNeighborsClassifier(n_jobs=-1)\n",
    "knn.fit(x_train_scaled_45_20, y_train_45_20)\n",
    "y_pred_train_knn = knn.predict(x_train_scaled_45_20)\n",
    "y_pred_test_knn = knn.predict(x_test_scaled_45_20)\n",
    "accuracy_train_knn=(y_train_45_20 == y_pred_train_knn).sum()/x_train_scaled_45_20.shape[0]\n",
    "accuracy_test_knn=(y_test_45_20 == y_pred_test_knn).sum()/x_test_scaled_45_20.shape[0]\n",
    "accuracy_train_knn, accuracy_test_knn"
   ]
  },
  {
   "cell_type": "markdown",
   "metadata": {},
   "source": [
    "The accuracy is not that high but it is higher than Gaussian Naive Bayes method. Therefore, I will optimize this method too. Before running the cross validation, I tried to optimize the p value at first."
   ]
  },
  {
   "cell_type": "code",
   "execution_count": 48,
   "metadata": {},
   "outputs": [
    {
     "data": {
      "text/plain": [
       "(0.6271789965986394, 0.46293639406982307)"
      ]
     },
     "execution_count": 48,
     "metadata": {},
     "output_type": "execute_result"
    }
   ],
   "source": [
    "knn = KNeighborsClassifier(n_jobs=-1,p=1)\n",
    "knn.fit(x_train_scaled_45_20, y_train_45_20)\n",
    "y_pred_train_knn = knn.predict(x_train_scaled_45_20)\n",
    "y_pred_test_knn = knn.predict(x_test_scaled_45_20)\n",
    "accuracy_train_knn=(y_train_45_20 == y_pred_train_knn).sum()/x_train_scaled_45_20.shape[0]\n",
    "accuracy_test_knn=(y_test_45_20 == y_pred_test_knn).sum()/x_test_scaled_45_20.shape[0]\n",
    "accuracy_train_knn, accuracy_test_knn"
   ]
  },
  {
   "cell_type": "markdown",
   "metadata": {},
   "source": [
    "Since accuracy is higher for p=1 (46.29% compared to 42.8%) with default n_neighbors=5, I will n_neighbors with p=1. Since accuracy of the testing data is totally for an unseen data, I use that score to optimize the model.\n",
    "\n",
    "Next, I will vary the n_neighbors to 3 and 8 to check the direction of the accuracy with the model."
   ]
  },
  {
   "cell_type": "code",
   "execution_count": 88,
   "metadata": {},
   "outputs": [
    {
     "data": {
      "text/plain": [
       "(0.5780984268707483, 0.453610712577714)"
      ]
     },
     "execution_count": 88,
     "metadata": {},
     "output_type": "execute_result"
    }
   ],
   "source": [
    "# n_neighbors=8\n",
    "knn = KNeighborsClassifier(n_jobs=-1,p=1,n_neighbors=8)\n",
    "knn.fit(x_train_scaled_45_20, y_train_45_20)\n",
    "y_pred_train_knn = knn.predict(x_train_scaled_45_20)\n",
    "y_pred_test_knn = knn.predict(x_test_scaled_45_20)\n",
    "accuracy_train_knn=(y_train_45_20 == y_pred_train_knn).sum()/x_train_scaled_45_20.shape[0]\n",
    "accuracy_test_knn=(y_test_45_20 == y_pred_test_knn).sum()/x_test_scaled_45_20.shape[0]\n",
    "accuracy_train_knn, accuracy_test_knn"
   ]
  },
  {
   "cell_type": "code",
   "execution_count": 89,
   "metadata": {},
   "outputs": [
    {
     "data": {
      "text/plain": [
       "(0.6696428571428571, 0.4581539933046389)"
      ]
     },
     "execution_count": 89,
     "metadata": {},
     "output_type": "execute_result"
    }
   ],
   "source": [
    "# n_neighbors=3\n",
    "knn = KNeighborsClassifier(n_jobs=-1,p=1,n_neighbors=3)\n",
    "knn.fit(x_train_scaled_45_20, y_train_45_20)\n",
    "y_pred_train_knn = knn.predict(x_train_scaled_45_20)\n",
    "y_pred_test_knn = knn.predict(x_test_scaled_45_20)\n",
    "accuracy_train_knn=(y_train_45_20 == y_pred_train_knn).sum()/x_train_scaled_45_20.shape[0]\n",
    "accuracy_test_knn=(y_test_45_20 == y_pred_test_knn).sum()/x_test_scaled_45_20.shape[0]\n",
    "accuracy_train_knn, accuracy_test_knn"
   ]
  },
  {
   "cell_type": "markdown",
   "metadata": {},
   "source": [
    "Therefore, it is evident that the optimized model for knn is with n_neighbors=5 and p=1. The final model is"
   ]
  },
  {
   "cell_type": "code",
   "execution_count": 91,
   "metadata": {},
   "outputs": [
    {
     "data": {
      "text/plain": [
       "(0.6271789965986394, 0.46293639406982307)"
      ]
     },
     "execution_count": 91,
     "metadata": {},
     "output_type": "execute_result"
    }
   ],
   "source": [
    "knn = KNeighborsClassifier(n_jobs=-1,p=1,n_neighbors=5)\n",
    "knn.fit(x_train_scaled_45_20, y_train_45_20)\n",
    "y_pred_train_knn = knn.predict(x_train_scaled_45_20)\n",
    "y_pred_test_knn = knn.predict(x_test_scaled_45_20)\n",
    "accuracy_train_knn=(y_train_45_20 == y_pred_train_knn).sum()/x_train_scaled_45_20.shape[0]\n",
    "accuracy_test_knn=(y_test_45_20 == y_pred_test_knn).sum()/x_test_scaled_45_20.shape[0]\n",
    "accuracy_train_knn, accuracy_test_knn"
   ]
  },
  {
   "cell_type": "markdown",
   "metadata": {},
   "source": [
    "With KNN classifier the accuracy of the unseen test data is 46.3%"
   ]
  },
  {
   "cell_type": "markdown",
   "metadata": {},
   "source": [
    "## Random Forest Classifier"
   ]
  },
  {
   "cell_type": "markdown",
   "metadata": {},
   "source": [
    "Since none of the above methods give a good accuracy, I used random forest classifier at next. This follows ensemble method for classification."
   ]
  },
  {
   "cell_type": "code",
   "execution_count": 11,
   "metadata": {},
   "outputs": [],
   "source": [
    "from sklearn.ensemble import RandomForestClassifier"
   ]
  },
  {
   "cell_type": "code",
   "execution_count": 10,
   "metadata": {},
   "outputs": [],
   "source": [
    "# Using default parameters at first \n",
    "# Default:(n_estimators=100,criterion=\"gini\",ccp_alpha=0, max_features='sqrt', min_samples_leaf=1, min_samples_split=2)\n",
    "rf1=RandomForestClassifier(random_state=0, n_jobs=-1)"
   ]
  },
  {
   "cell_type": "code",
   "execution_count": 11,
   "metadata": {},
   "outputs": [],
   "source": [
    "rf1_45=rf1\n",
    "rf1_45.fit(x_train_scaled_45_20, y_train_45_20)\n",
    "y_pred_train_rf1_45 = rf1_45.predict(x_train_scaled_45_20)\n",
    "y_pred_test_rf1_45 = rf1_45.predict(x_test_scaled_45_20)\n",
    "accuracy_train_rf=(y_train_45_20 == y_pred_train_rf1_45).sum()/x_train_scaled_45_20.shape[0]\n",
    "accuracy_test_rf=(y_test_45_20 == y_pred_test_rf1_45).sum()/x_test_scaled_45_20.shape[0]"
   ]
  },
  {
   "cell_type": "code",
   "execution_count": 27,
   "metadata": {},
   "outputs": [
    {
     "data": {
      "text/plain": [
       "(1.0, 0.5758010521281683)"
      ]
     },
     "execution_count": 27,
     "metadata": {},
     "output_type": "execute_result"
    }
   ],
   "source": [
    "accuracy_train_rf, accuracy_test_rf"
   ]
  },
  {
   "cell_type": "markdown",
   "metadata": {},
   "source": [
    "From the defulat hyper-parameters, train accuracy is 100% and validation score with unseen data is 57.58%. Next I tried to optimize the hyperparameters."
   ]
  },
  {
   "cell_type": "markdown",
   "metadata": {},
   "source": [
    "At first, I tried to optimize the number of estimators via grid search."
   ]
  },
  {
   "cell_type": "code",
   "execution_count": 28,
   "metadata": {},
   "outputs": [
    {
     "data": {
      "image/png": "[encoded data removed]",
      "text/plain": [
       "<Figure size 864x432 with 1 Axes>"
      ]
     },
     "metadata": {
      "needs_background": "light"
     },
     "output_type": "display_data"
    }
   ],
   "source": [
    "rf1=RandomForestClassifier(random_state=0, n_jobs=-1)\n",
    "gs = GridSearchCV(\n",
    "    rf1,\n",
    "    param_grid={\"n_estimators\": np.array([10, 100, 500, 1000])},\n",
    "    return_train_score=True,\n",
    "    scoring=\"accuracy\",\n",
    "    cv=kfold\n",
    ")\n",
    "\n",
    "gs.fit(x_train_scaled_45_20, y_train_45_20)\n",
    "plot_grid_search_results2(gs)\n",
    "plt.ylabel(\"accuracy\");\n",
    "plt.grid(True)"
   ]
  },
  {
   "cell_type": "code",
   "execution_count": 31,
   "metadata": {},
   "outputs": [
    {
     "data": {
      "text/plain": [
       "array([0.49952173, 0.56042735, 0.57358102, 0.57342161])"
      ]
     },
     "execution_count": 31,
     "metadata": {},
     "output_type": "execute_result"
    }
   ],
   "source": [
    "gs.cv_results_.get('mean_test_score')"
   ]
  },
  {
   "cell_type": "markdown",
   "metadata": {},
   "source": [
    "The maximum accuracty is found when n_estimators = 500. Therefore I will use this value for next optimization of ccp_alpha"
   ]
  },
  {
   "cell_type": "code",
   "execution_count": 32,
   "metadata": {},
   "outputs": [
    {
     "data": {
      "image/png": "[encoded data removed]",
      "text/plain": [
       "<Figure size 864x432 with 1 Axes>"
      ]
     },
     "metadata": {
      "needs_background": "light"
     },
     "output_type": "display_data"
    }
   ],
   "source": [
    "rf1=RandomForestClassifier(random_state=0, n_jobs=-1,n_estimators=500)\n",
    "gs = GridSearchCV(\n",
    "    rf1,\n",
    "    param_grid={\"ccp_alpha\": np.array([1e-16, 1e-10, 1e-6, 1e-2])},\n",
    "    return_train_score=True,\n",
    "    scoring=\"accuracy\",\n",
    "    cv=kfold\n",
    ")\n",
    "\n",
    "gs.fit(x_train_scaled_45_20, y_train_45_20)\n",
    "plot_grid_search_results2(gs)\n",
    "plt.ylabel(\"accuracy\");plt.xscale('log');\n",
    "plt.grid(True)"
   ]
  },
  {
   "cell_type": "code",
   "execution_count": 33,
   "metadata": {
    "scrolled": true
   },
   "outputs": [
    {
     "data": {
      "text/plain": [
       "array([0.57358102, 0.57358102, 0.57358102, 0.25029229])"
      ]
     },
     "execution_count": 33,
     "metadata": {},
     "output_type": "execute_result"
    }
   ],
   "source": [
    "gs.cv_results_.get('mean_test_score')"
   ]
  },
  {
   "cell_type": "markdown",
   "metadata": {},
   "source": [
    "The maximum accuracty is found when ccp_alpha<=1e-6. Therefore, I used ccp_alpha=1e-10 for the next level of optimization of criterion."
   ]
  },
  {
   "cell_type": "code",
   "execution_count": 34,
   "metadata": {},
   "outputs": [
    {
     "data": {
      "image/png": "[encoded data removed]",
      "text/plain": [
       "<Figure size 864x432 with 1 Axes>"
      ]
     },
     "metadata": {
      "needs_background": "light"
     },
     "output_type": "display_data"
    }
   ],
   "source": [
    "rf1=RandomForestClassifier(random_state=0, n_jobs=-1,n_estimators=500,ccp_alpha=1e-10)\n",
    "gs = GridSearchCV(\n",
    "    rf1,\n",
    "    param_grid={\"criterion\": [\"entropy\", \"gini\"]},\n",
    "    return_train_score=True,\n",
    "    scoring=\"accuracy\",\n",
    "    cv=kfold\n",
    ")\n",
    "\n",
    "gs.fit(x_train_scaled_45_20, y_train_45_20)\n",
    "plot_grid_search_results2(gs)\n",
    "plt.ylabel(\"accuracy\");\n",
    "plt.grid(True)"
   ]
  },
  {
   "cell_type": "code",
   "execution_count": 35,
   "metadata": {},
   "outputs": [
    {
     "data": {
      "text/plain": [
       "array([0.5749628 , 0.57358102])"
      ]
     },
     "execution_count": 35,
     "metadata": {},
     "output_type": "execute_result"
    }
   ],
   "source": [
    "gs.cv_results_.get('mean_test_score')"
   ]
  },
  {
   "cell_type": "markdown",
   "metadata": {},
   "source": [
    "Since 'criterion' = 'entropy' gives higher accuracy, this is selected for next level of optimization. Since I changed the parameters, I am checking the accuracy with n_estimators=1000 next as previously they gave almost similar accuracy."
   ]
  },
  {
   "cell_type": "code",
   "execution_count": 38,
   "metadata": {},
   "outputs": [
    {
     "data": {
      "text/plain": [
       "(1.0, 0.5920612147297943)"
      ]
     },
     "execution_count": 38,
     "metadata": {},
     "output_type": "execute_result"
    }
   ],
   "source": [
    "rf1=RandomForestClassifier(random_state=0, n_jobs=-1,n_estimators=1000,ccp_alpha=1e-10,criterion=\"entropy\")\n",
    "\n",
    "rf1_45=rf1\n",
    "rf1_45.fit(x_train_scaled_45_20, y_train_45_20)\n",
    "y_pred_train_rf1_45 = rf1_45.predict(x_train_scaled_45_20)\n",
    "y_pred_test_rf1_45 = rf1_45.predict(x_test_scaled_45_20)\n",
    "accuracy_train_rf=(y_train_45_20 == y_pred_train_rf1_45).sum()/x_train_scaled_45_20.shape[0]\n",
    "accuracy_test_rf=(y_test_45_20 == y_pred_test_rf1_45).sum()/x_test_scaled_45_20.shape[0]\n",
    "accuracy_train_rf,accuracy_test_rf"
   ]
  },
  {
   "cell_type": "markdown",
   "metadata": {},
   "source": [
    "For unseen data with n_estimators=1000, validation accuracy is 59.2% which is higher than 57.5% with n_estimators=500. Therefore, I used n_estimators=1000 for optimization of max_features."
   ]
  },
  {
   "cell_type": "code",
   "execution_count": 39,
   "metadata": {},
   "outputs": [
    {
     "data": {
      "image/png": "[encoded data removed]",
      "text/plain": [
       "<Figure size 864x432 with 1 Axes>"
      ]
     },
     "metadata": {
      "needs_background": "light"
     },
     "output_type": "display_data"
    }
   ],
   "source": [
    "rf1=RandomForestClassifier(random_state=0, n_jobs=-1,n_estimators=1000,ccp_alpha=1e-10,criterion=\"entropy\")\n",
    "gs = GridSearchCV(\n",
    "    rf1,\n",
    "    param_grid={\"max_features\": [\"sqrt\", \"log2\"]},\n",
    "    return_train_score=True,\n",
    "    scoring=\"accuracy\",\n",
    "    cv=kfold\n",
    ")\n",
    "\n",
    "gs.fit(x_train_scaled_45_20, y_train_45_20)\n",
    "plot_grid_search_results2(gs)\n",
    "plt.ylabel(\"accuracy\");\n",
    "plt.grid(True)"
   ]
  },
  {
   "cell_type": "code",
   "execution_count": 40,
   "metadata": {},
   "outputs": [
    {
     "data": {
      "text/plain": [
       "array([0.57583983, 0.57089721])"
      ]
     },
     "execution_count": 40,
     "metadata": {},
     "output_type": "execute_result"
    }
   ],
   "source": [
    "gs.cv_results_.get('mean_test_score')"
   ]
  },
  {
   "cell_type": "markdown",
   "metadata": {},
   "source": [
    "Since 'max_features' = 'sqrt' gives higher accuracy, this is selected for next optimization of min_samples_leaf and min_samples_split. "
   ]
  },
  {
   "cell_type": "code",
   "execution_count": 41,
   "metadata": {
    "scrolled": true
   },
   "outputs": [
    {
     "data": {
      "image/png": "[encoded data removed]",
      "text/plain": [
       "<Figure size 864x432 with 1 Axes>"
      ]
     },
     "metadata": {
      "needs_background": "light"
     },
     "output_type": "display_data"
    }
   ],
   "source": [
    "rf1=RandomForestClassifier(random_state=0, n_jobs=-1,n_estimators=1000,ccp_alpha=1e-10,criterion=\"entropy\")\n",
    "gs = GridSearchCV(\n",
    "    rf1,\n",
    "    param_grid={\"min_samples_leaf\": [1, 2], \"min_samples_split\": [2, 5]},\n",
    "    return_train_score=True,\n",
    "    scoring=\"accuracy\",\n",
    "    cv=kfold\n",
    ")\n",
    "\n",
    "gs.fit(x_train_scaled_45_20, y_train_45_20)\n",
    "plot_grid_search_results2(gs)\n",
    "plt.ylabel(\"accuracy\");\n",
    "plt.grid(True)"
   ]
  },
  {
   "cell_type": "code",
   "execution_count": 42,
   "metadata": {},
   "outputs": [
    {
     "data": {
      "text/plain": [
       "array([0.57583983, 0.56975452, 0.56946228, 0.56709715])"
      ]
     },
     "execution_count": 42,
     "metadata": {},
     "output_type": "execute_result"
    }
   ],
   "source": [
    "gs.cv_results_.get('mean_test_score')"
   ]
  },
  {
   "cell_type": "markdown",
   "metadata": {},
   "source": [
    "Since the variation in min_samples_leaf and min_samples_split don't increase the accuracy from the deafult values of those, I kept those values at the default. Now, Random Forest Classifier has a parameter called oob_score for generalization of the accuracy. I used that for the final model. Therefore the final model with this feature size is give beolow."
   ]
  },
  {
   "cell_type": "code",
   "execution_count": 12,
   "metadata": {},
   "outputs": [],
   "source": [
    "rf1=RandomForestClassifier(oob_score=True, random_state=0,n_estimators=1000,criterion=\"entropy\",ccp_alpha=1e-10, max_features='sqrt', min_samples_leaf=1, min_samples_split=2, n_jobs=-1)"
   ]
  },
  {
   "cell_type": "code",
   "execution_count": 13,
   "metadata": {},
   "outputs": [
    {
     "data": {
      "text/plain": [
       "(1.0, 0.5920612147297943)"
      ]
     },
     "execution_count": 13,
     "metadata": {},
     "output_type": "execute_result"
    }
   ],
   "source": [
    "rf1_45=rf1\n",
    "rf1_45.fit(x_train_scaled_45_20, y_train_45_20)\n",
    "y_pred_train_rf1_45 = rf1_45.predict(x_train_scaled_45_20)\n",
    "y_pred_test_rf1_45 = rf1_45.predict(x_test_scaled_45_20)\n",
    "accuracy_train_rf=(y_train_45_20 == y_pred_train_rf1_45).sum()/x_train_scaled_45_20.shape[0]\n",
    "accuracy_test_rf=(y_test_45_20 == y_pred_test_rf1_45).sum()/x_test_scaled_45_20.shape[0]\n",
    "accuracy_train_rf, accuracy_test_rf"
   ]
  },
  {
   "cell_type": "code",
   "execution_count": 14,
   "metadata": {},
   "outputs": [
    {
     "data": {
      "text/plain": [
       "0.5848214285714286"
      ]
     },
     "execution_count": 14,
     "metadata": {},
     "output_type": "execute_result"
    }
   ],
   "source": [
    "rf1_45.oob_score_"
   ]
  },
  {
   "cell_type": "markdown",
   "metadata": {},
   "source": [
    "Even though cross-validation score was 57.5%, with the unseen data the accuracy is 59.5%. Since I activated oob_score for the classifier, I used that for the model accuracy. Therefore, accuracy of this model with 45 bins of (sin(theta))^2 feature and 20 coefficient of DST transform is 58.48%."
   ]
  },
  {
   "cell_type": "markdown",
   "metadata": {},
   "source": [
    "Now, I will just vary the feature size to check whether the accuracy can be increased. oob_score will be used for model accuracy. \n",
    "At first I will vary the number of DST coefficients from 25 to 40 with a step of 5 and then check their oob_score."
   ]
  },
  {
   "cell_type": "code",
   "execution_count": 52,
   "metadata": {},
   "outputs": [
    {
     "data": {
      "text/plain": [
       "(1.0, 0.5951697752271641, 0.5871598639455783)"
      ]
     },
     "execution_count": 52,
     "metadata": {},
     "output_type": "execute_result"
    }
   ],
   "source": [
    "# 25 DST coefficients\n",
    "# feature extraction \n",
    "nbin_sin2theta=45;start_bin=1;end_bin=16;dst_coeff=25;\n",
    "base_feature_training,final_feature_training_45_25=calculate_features(training_data_filepath,nbin_sin2theta,start_bin,end_bin,dst_coeff)\n",
    "# train-test split\n",
    "x_train_45_25, x_test_45_25, y_train_45_25, y_test_45_25 = train_test_split(final_feature_training_45_25, original_labels, test_size=0.1, random_state=0)\n",
    "#data scaling\n",
    "minmax_scaler_45_25=minmax_scaler\n",
    "minmax_scaler_45_25.fit(x_train_45_25)\n",
    "x_test_scaled_45_25=minmax_scaler_45_25.transform(x_test_45_25)\n",
    "x_train_scaled_45_25=minmax_scaler_45_25.transform(x_train_45_25)\n",
    "# model \n",
    "rf1_45_25=rf1\n",
    "rf1_45_25.fit(x_train_scaled_45_25, y_train_45_25)\n",
    "y_pred_train_rf1_45_25 = rf1_45_25.predict(x_train_scaled_45_25)\n",
    "y_pred_test_rf1_45_25 = rf1_45_25.predict(x_test_scaled_45_25)\n",
    "accuracy_train_rf=(y_train_45_25 == y_pred_train_rf1_45_25).sum()/x_train_scaled_45_25.shape[0]\n",
    "accuracy_test_rf=(y_test_45_25 == y_pred_test_rf1_45_25).sum()/x_test_scaled_45_25.shape[0]\n",
    "# Accuracies\n",
    "accuracy_train_rf, accuracy_test_rf, rf1_45_25.oob_score_"
   ]
  },
  {
   "cell_type": "code",
   "execution_count": 53,
   "metadata": {},
   "outputs": [
    {
     "data": {
      "text/plain": [
       "(1.0, 0.5913438546150167, 0.5882227891156463)"
      ]
     },
     "execution_count": 53,
     "metadata": {},
     "output_type": "execute_result"
    }
   ],
   "source": [
    "# 30 DST coefficients\n",
    "# feature extraction \n",
    "nbin_sin2theta=45;start_bin=1;end_bin=16;dst_coeff=30;\n",
    "base_feature_training,final_feature_training_45_30=calculate_features(training_data_filepath,nbin_sin2theta,start_bin,end_bin,dst_coeff)\n",
    "# train-test split\n",
    "x_train_45_30, x_test_45_30, y_train_45_30, y_test_45_30 = train_test_split(final_feature_training_45_30, original_labels, test_size=0.1, random_state=0)\n",
    "#data scaling\n",
    "minmax_scaler_45_30=minmax_scaler\n",
    "minmax_scaler_45_30.fit(x_train_45_30)\n",
    "x_test_scaled_45_30=minmax_scaler_45_30.transform(x_test_45_30)\n",
    "x_train_scaled_45_30=minmax_scaler_45_30.transform(x_train_45_30)\n",
    "# model \n",
    "rf1_45_30=rf1\n",
    "rf1_45_30.fit(x_train_scaled_45_30, y_train_45_30)\n",
    "y_pred_train_rf1_45_30 = rf1_45_30.predict(x_train_scaled_45_30)\n",
    "y_pred_test_rf1_45_30 = rf1_45_30.predict(x_test_scaled_45_30)\n",
    "accuracy_train_rf=(y_train_45_30 == y_pred_train_rf1_45_30).sum()/x_train_scaled_45_30.shape[0]\n",
    "accuracy_test_rf=(y_test_45_30 == y_pred_test_rf1_45_30).sum()/x_test_scaled_45_30.shape[0]\n",
    "# Accuracies\n",
    "accuracy_train_rf, accuracy_test_rf, rf1_45_30.oob_score_"
   ]
  },
  {
   "cell_type": "code",
   "execution_count": 54,
   "metadata": {},
   "outputs": [
    {
     "data": {
      "text/plain": [
       "(1.0, 0.5980392156862745, 0.5871598639455783)"
      ]
     },
     "execution_count": 54,
     "metadata": {},
     "output_type": "execute_result"
    }
   ],
   "source": [
    "# 35 DST coefficients\n",
    "# feature extraction \n",
    "nbin_sin2theta=45;start_bin=1;end_bin=16;dst_coeff=35;\n",
    "base_feature_training,final_feature_training_45_35=calculate_features(training_data_filepath,nbin_sin2theta,start_bin,end_bin,dst_coeff)\n",
    "# train-test split\n",
    "x_train_45_35, x_test_45_35, y_train_45_35, y_test_45_35 = train_test_split(final_feature_training_45_35, original_labels, test_size=0.1, random_state=0)\n",
    "#data scaling\n",
    "minmax_scaler_45_35=minmax_scaler\n",
    "minmax_scaler_45_35.fit(x_train_45_35)\n",
    "x_test_scaled_45_35=minmax_scaler_45_35.transform(x_test_45_35)\n",
    "x_train_scaled_45_35=minmax_scaler_45_35.transform(x_train_45_35)\n",
    "# model \n",
    "rf1_45_35=rf1\n",
    "rf1_45_35.fit(x_train_scaled_45_35, y_train_45_35)\n",
    "y_pred_train_rf1_45_35 = rf1_45_35.predict(x_train_scaled_45_35)\n",
    "y_pred_test_rf1_45_35 = rf1_45_35.predict(x_test_scaled_45_35)\n",
    "accuracy_train_rf=(y_train_45_35 == y_pred_train_rf1_45_35).sum()/x_train_scaled_45_35.shape[0]\n",
    "accuracy_test_rf=(y_test_45_35 == y_pred_test_rf1_45_35).sum()/x_test_scaled_45_35.shape[0]\n",
    "# Accuracies\n",
    "accuracy_train_rf, accuracy_test_rf, rf1_45_35.oob_score_"
   ]
  },
  {
   "cell_type": "code",
   "execution_count": 55,
   "metadata": {},
   "outputs": [
    {
     "data": {
      "text/plain": [
       "(1.0, 0.592778574844572, 0.5862829506802721)"
      ]
     },
     "execution_count": 55,
     "metadata": {},
     "output_type": "execute_result"
    }
   ],
   "source": [
    "# 40 DST coefficients\n",
    "# feature extraction \n",
    "nbin_sin2theta=45;start_bin=1;end_bin=16;dst_coeff=40;\n",
    "base_feature_training,final_feature_training_45_40=calculate_features(training_data_filepath,nbin_sin2theta,start_bin,end_bin,dst_coeff)\n",
    "# train-test split\n",
    "x_train_45_40, x_test_45_40, y_train_45_40, y_test_45_40 = train_test_split(final_feature_training_45_40, original_labels, test_size=0.1, random_state=0)\n",
    "#data scaling\n",
    "minmax_scaler_45_40=minmax_scaler\n",
    "minmax_scaler_45_40.fit(x_train_45_40)\n",
    "x_test_scaled_45_40=minmax_scaler_45_40.transform(x_test_45_40)\n",
    "x_train_scaled_45_40=minmax_scaler_45_40.transform(x_train_45_40)\n",
    "# model \n",
    "rf1_45_40=rf1\n",
    "rf1_45_40.fit(x_train_scaled_45_40, y_train_45_40)\n",
    "y_pred_train_rf1_45_40 = rf1_45_40.predict(x_train_scaled_45_40)\n",
    "y_pred_test_rf1_45_40 = rf1_45_40.predict(x_test_scaled_45_40)\n",
    "accuracy_train_rf=(y_train_45_40 == y_pred_train_rf1_45_40).sum()/x_train_scaled_45_40.shape[0]\n",
    "accuracy_test_rf=(y_test_45_40 == y_pred_test_rf1_45_40).sum()/x_test_scaled_45_40.shape[0]\n",
    "# Accuracies\n",
    "accuracy_train_rf, accuracy_test_rf, rf1_45_40.oob_score_"
   ]
  },
  {
   "cell_type": "markdown",
   "metadata": {},
   "source": [
    "OOB scores are 58.48%, 58.72%, 58.82%, 58.72% and 58.63% for 20, 25, 30, 35 and 40 DST coefficients respectively. Therefore 30 considering 30 DST coefficents for the feature size is optimal. Next we will try to optimize the binning of (sin(theta))^2 by varrying the end bin from 30 to 60 with endbin from 11 to 21 as we optimized the previous model by end bin = 16."
   ]
  },
  {
   "cell_type": "code",
   "execution_count": 14,
   "metadata": {},
   "outputs": [
    {
     "data": {
      "text/plain": [
       "(1.0, 0.5951697752271641, 0.5887011054421769)"
      ]
     },
     "execution_count": 14,
     "metadata": {},
     "output_type": "execute_result"
    }
   ],
   "source": [
    "# 30 DST coefficients & 30 bins\n",
    "# feature extraction \n",
    "nbin_sin2theta=30;start_bin=1;end_bin=11;dst_coeff=30;\n",
    "base_feature_training,final_feature_training_30_30=calculate_features(training_data_filepath,nbin_sin2theta,start_bin,end_bin,dst_coeff)\n",
    "# train-test split\n",
    "x_train_30_30, x_test_30_30, y_train_30_30, y_test_30_30 = train_test_split(final_feature_training_30_30, original_labels, test_size=0.1, random_state=0)\n",
    "#data scaling\n",
    "minmax_scaler_30_30=minmax_scaler\n",
    "minmax_scaler_30_30.fit(x_train_30_30)\n",
    "x_test_scaled_30_30=minmax_scaler_30_30.transform(x_test_30_30)\n",
    "x_train_scaled_30_30=minmax_scaler_30_30.transform(x_train_30_30)\n",
    "# model \n",
    "rf1_30_30=RandomForestClassifier(oob_score=True, random_state=0,n_estimators=1000,criterion=\"entropy\",ccp_alpha=1e-10, max_features='sqrt', min_samples_leaf=1, min_samples_split=2, n_jobs=-1)\n",
    "rf1_30_30.fit(x_train_scaled_30_30, y_train_30_30)\n",
    "y_pred_train_rf1_30_30 = rf1_30_30.predict(x_train_scaled_30_30)\n",
    "y_pred_test_rf1_30_30 = rf1_30_30.predict(x_test_scaled_30_30)\n",
    "accuracy_train_rf=(y_train_30_30 == y_pred_train_rf1_30_30).sum()/x_train_scaled_30_30.shape[0]\n",
    "accuracy_test_rf=(y_test_30_30 == y_pred_test_rf1_30_30).sum()/x_test_scaled_30_30.shape[0]\n",
    "# Accuracies\n",
    "accuracy_train_rf, accuracy_test_rf, rf1_30_30.oob_score_"
   ]
  },
  {
   "cell_type": "code",
   "execution_count": 57,
   "metadata": {},
   "outputs": [
    {
     "data": {
      "text/plain": [
       "(1.0, 0.5877570540411287, 0.5817389455782312)"
      ]
     },
     "execution_count": 57,
     "metadata": {},
     "output_type": "execute_result"
    }
   ],
   "source": [
    "# 30 DST coefficients & 60 bins\n",
    "# feature extraction \n",
    "nbin_sin2theta=60;start_bin=1;end_bin=21;dst_coeff=30;\n",
    "base_feature_training,final_feature_training_60_30=calculate_features(training_data_filepath,nbin_sin2theta,start_bin,end_bin,dst_coeff)\n",
    "# train-test split\n",
    "x_train_60_30, x_test_60_30, y_train_60_30, y_test_60_30 = train_test_split(final_feature_training_60_30, original_labels, test_size=0.1, random_state=0)\n",
    "#data scaling\n",
    "minmax_scaler_60_30=minmax_scaler\n",
    "minmax_scaler_60_30.fit(x_train_60_30)\n",
    "x_test_scaled_60_30=minmax_scaler_60_30.transform(x_test_60_30)\n",
    "x_train_scaled_60_30=minmax_scaler_60_30.transform(x_train_60_30)\n",
    "# model \n",
    "rf1_60_30=rf1\n",
    "rf1_60_30.fit(x_train_scaled_60_30, y_train_60_30)\n",
    "y_pred_train_rf1_60_30 = rf1_60_30.predict(x_train_scaled_60_30)\n",
    "y_pred_test_rf1_60_30 = rf1_60_30.predict(x_test_scaled_60_30)\n",
    "accuracy_train_rf=(y_train_60_30 == y_pred_train_rf1_60_30).sum()/x_train_scaled_60_30.shape[0]\n",
    "accuracy_test_rf=(y_test_60_30 == y_pred_test_rf1_60_30).sum()/x_test_scaled_60_30.shape[0]\n",
    "# Accuracies\n",
    "accuracy_train_rf, accuracy_test_rf, rf1_60_30.oob_score_"
   ]
  },
  {
   "cell_type": "markdown",
   "metadata": {},
   "source": [
    "It is evident from the OOB scores that 30 and 45 bins of (sin(theta))^2 gives almost same result and 60 bins has lower OOB score. However, with 30 bins unseen test datas also have a little higher accuracy (59.5%) compared to 59.13% of 45 bins. \n",
    "\n",
    "Therefore, I will conclude that with random forest classifier the maximum accuracy can be achieved by selecting  30 bins of (sin(theta))^2 and 30 DST coefficients. The model has OOB score of 58.87% and validation accuracy with unseen data is 59.5% .\n",
    "\n",
    "So, the final model is:"
   ]
  },
  {
   "cell_type": "code",
   "execution_count": 15,
   "metadata": {},
   "outputs": [],
   "source": [
    "rf1_30_30=RandomForestClassifier(oob_score=True, random_state=0,n_estimators=1000,criterion=\"entropy\",ccp_alpha=1e-10, max_features='sqrt', min_samples_leaf=1, min_samples_split=2, n_jobs=-1)"
   ]
  },
  {
   "cell_type": "code",
   "execution_count": 16,
   "metadata": {},
   "outputs": [
    {
     "data": {
      "text/plain": [
       "(1.0, 0.5951697752271641, 0.5887011054421769)"
      ]
     },
     "execution_count": 16,
     "metadata": {},
     "output_type": "execute_result"
    }
   ],
   "source": [
    "rf1_30_30.fit(x_train_scaled_30_30, y_train_30_30)\n",
    "y_pred_train_rf1_30_30 = rf1_30_30.predict(x_train_scaled_30_30)\n",
    "y_pred_test_rf1_30_30 = rf1_30_30.predict(x_test_scaled_30_30)\n",
    "accuracy_train_rf=(y_train_30_30 == y_pred_train_rf1_30_30).sum()/x_train_scaled_30_30.shape[0]\n",
    "accuracy_test_rf=(y_test_30_30 == y_pred_test_rf1_30_30).sum()/x_test_scaled_30_30.shape[0]\n",
    "# Accuracies\n",
    "accuracy_train_rf, accuracy_test_rf, rf1_30_30.oob_score_"
   ]
  },
  {
   "cell_type": "code",
   "execution_count": 78,
   "metadata": {
    "scrolled": true
   },
   "outputs": [
    {
     "name": "stderr",
     "output_type": "stream",
     "text": [
      "C:\\Users\\Raihan\\Anaconda3\\envs\\nano281\\lib\\site-packages\\seaborn\\_decorators.py:43: FutureWarning: Pass the following variables as keyword args: x, y. From version 0.12, the only valid positional argument will be `data`, and passing other arguments without an explicit keyword will result in an error or misinterpretation.\n",
      "  FutureWarning\n"
     ]
    },
    {
     "data": {
      "image/png": "[encoded data removed]",
      "text/plain": [
       "<Figure size 1152x1152 with 1 Axes>"
      ]
     },
     "metadata": {
      "needs_background": "light"
     },
     "output_type": "display_data"
    }
   ],
   "source": [
    "plt.subplots(figsize=(16, 16))\n",
    "sns.barplot(rf1_30_30.feature_importances_, list(final_feature_training_30_30.columns), orient='h')\n",
    "plt.xlabel(\"Feature importance\");"
   ]
  },
  {
   "cell_type": "code",
   "execution_count": 44,
   "metadata": {
    "scrolled": true
   },
   "outputs": [],
   "source": [
    "from sklearn.metrics import confusion_matrix\n",
    "\n",
    "def get_cm(y, y_pred):\n",
    "    train_cm = confusion_matrix(y, y_pred)\n",
    "\n",
    "    column_labels = ['class_%d'%i for i in range(1, 15)]\n",
    "\n",
    "    return pd.DataFrame(train_cm, columns=['pred_'+i for i in column_labels], \n",
    "                              index=['true_' + i for i in column_labels])\n",
    "\n",
    "#train_cm_df = get_cm(y_train, y_pred_train_random_for3)\n",
    "test_cm_df = get_cm(y_test_30_30,y_pred_test_rf1_30_30)\n",
    "#print('Train data', train_cm_df)\n",
    "TP=[test_cm_df.iloc[i,i] for i in range(14)]\n",
    "TN=np.array(test_cm_df.sum(axis=1))-TP\n",
    "FP=np.array(test_cm_df.sum())-TP\n",
    "#test_cm_df\n",
    "#print('Test data', test_cm_df)"
   ]
  },
  {
   "cell_type": "code",
   "execution_count": 47,
   "metadata": {},
   "outputs": [
    {
     "data": {
      "text/html": [
       "<div>\n",
       "<style scoped>\n",
       "    .dataframe tbody tr th:only-of-type {\n",
       "        vertical-align: middle;\n",
       "    }\n",
       "\n",
       "    .dataframe tbody tr th {\n",
       "        vertical-align: top;\n",
       "    }\n",
       "\n",
       "    .dataframe thead th {\n",
       "        text-align: right;\n",
       "    }\n",
       "</style>\n",
       "<table border=\"1\" class=\"dataframe\">\n",
       "  <thead>\n",
       "    <tr style=\"text-align: right;\">\n",
       "      <th></th>\n",
       "      <th>pred_class_1</th>\n",
       "      <th>pred_class_2</th>\n",
       "      <th>pred_class_3</th>\n",
       "      <th>pred_class_4</th>\n",
       "      <th>pred_class_5</th>\n",
       "      <th>pred_class_6</th>\n",
       "      <th>pred_class_7</th>\n",
       "      <th>pred_class_8</th>\n",
       "      <th>pred_class_9</th>\n",
       "      <th>pred_class_10</th>\n",
       "      <th>pred_class_11</th>\n",
       "      <th>pred_class_12</th>\n",
       "      <th>pred_class_13</th>\n",
       "      <th>pred_class_14</th>\n",
       "    </tr>\n",
       "  </thead>\n",
       "  <tbody>\n",
       "    <tr>\n",
       "      <th>true_class_1</th>\n",
       "      <td>243</td>\n",
       "      <td>0</td>\n",
       "      <td>1</td>\n",
       "      <td>0</td>\n",
       "      <td>4</td>\n",
       "      <td>4</td>\n",
       "      <td>74</td>\n",
       "      <td>31</td>\n",
       "      <td>0</td>\n",
       "      <td>0</td>\n",
       "      <td>26</td>\n",
       "      <td>2</td>\n",
       "      <td>0</td>\n",
       "      <td>2</td>\n",
       "    </tr>\n",
       "    <tr>\n",
       "      <th>true_class_2</th>\n",
       "      <td>0</td>\n",
       "      <td>377</td>\n",
       "      <td>1</td>\n",
       "      <td>1</td>\n",
       "      <td>2</td>\n",
       "      <td>2</td>\n",
       "      <td>0</td>\n",
       "      <td>1</td>\n",
       "      <td>0</td>\n",
       "      <td>1</td>\n",
       "      <td>0</td>\n",
       "      <td>0</td>\n",
       "      <td>0</td>\n",
       "      <td>0</td>\n",
       "    </tr>\n",
       "    <tr>\n",
       "      <th>true_class_3</th>\n",
       "      <td>0</td>\n",
       "      <td>0</td>\n",
       "      <td>95</td>\n",
       "      <td>2</td>\n",
       "      <td>2</td>\n",
       "      <td>5</td>\n",
       "      <td>1</td>\n",
       "      <td>2</td>\n",
       "      <td>0</td>\n",
       "      <td>0</td>\n",
       "      <td>0</td>\n",
       "      <td>0</td>\n",
       "      <td>2</td>\n",
       "      <td>2</td>\n",
       "    </tr>\n",
       "    <tr>\n",
       "      <th>true_class_4</th>\n",
       "      <td>2</td>\n",
       "      <td>0</td>\n",
       "      <td>0</td>\n",
       "      <td>176</td>\n",
       "      <td>1</td>\n",
       "      <td>4</td>\n",
       "      <td>1</td>\n",
       "      <td>9</td>\n",
       "      <td>0</td>\n",
       "      <td>0</td>\n",
       "      <td>1</td>\n",
       "      <td>4</td>\n",
       "      <td>0</td>\n",
       "      <td>5</td>\n",
       "    </tr>\n",
       "    <tr>\n",
       "      <th>true_class_5</th>\n",
       "      <td>9</td>\n",
       "      <td>1</td>\n",
       "      <td>1</td>\n",
       "      <td>4</td>\n",
       "      <td>306</td>\n",
       "      <td>27</td>\n",
       "      <td>2</td>\n",
       "      <td>12</td>\n",
       "      <td>0</td>\n",
       "      <td>0</td>\n",
       "      <td>1</td>\n",
       "      <td>6</td>\n",
       "      <td>7</td>\n",
       "      <td>2</td>\n",
       "    </tr>\n",
       "    <tr>\n",
       "      <th>true_class_6</th>\n",
       "      <td>23</td>\n",
       "      <td>6</td>\n",
       "      <td>0</td>\n",
       "      <td>4</td>\n",
       "      <td>25</td>\n",
       "      <td>267</td>\n",
       "      <td>16</td>\n",
       "      <td>43</td>\n",
       "      <td>0</td>\n",
       "      <td>0</td>\n",
       "      <td>9</td>\n",
       "      <td>5</td>\n",
       "      <td>11</td>\n",
       "      <td>7</td>\n",
       "    </tr>\n",
       "    <tr>\n",
       "      <th>true_class_7</th>\n",
       "      <td>102</td>\n",
       "      <td>0</td>\n",
       "      <td>0</td>\n",
       "      <td>0</td>\n",
       "      <td>2</td>\n",
       "      <td>3</td>\n",
       "      <td>148</td>\n",
       "      <td>51</td>\n",
       "      <td>0</td>\n",
       "      <td>0</td>\n",
       "      <td>67</td>\n",
       "      <td>3</td>\n",
       "      <td>0</td>\n",
       "      <td>4</td>\n",
       "    </tr>\n",
       "    <tr>\n",
       "      <th>true_class_8</th>\n",
       "      <td>42</td>\n",
       "      <td>1</td>\n",
       "      <td>0</td>\n",
       "      <td>4</td>\n",
       "      <td>7</td>\n",
       "      <td>20</td>\n",
       "      <td>68</td>\n",
       "      <td>168</td>\n",
       "      <td>0</td>\n",
       "      <td>1</td>\n",
       "      <td>37</td>\n",
       "      <td>17</td>\n",
       "      <td>5</td>\n",
       "      <td>8</td>\n",
       "    </tr>\n",
       "    <tr>\n",
       "      <th>true_class_9</th>\n",
       "      <td>0</td>\n",
       "      <td>1</td>\n",
       "      <td>0</td>\n",
       "      <td>0</td>\n",
       "      <td>3</td>\n",
       "      <td>6</td>\n",
       "      <td>0</td>\n",
       "      <td>5</td>\n",
       "      <td>11</td>\n",
       "      <td>0</td>\n",
       "      <td>1</td>\n",
       "      <td>2</td>\n",
       "      <td>8</td>\n",
       "      <td>0</td>\n",
       "    </tr>\n",
       "    <tr>\n",
       "      <th>true_class_10</th>\n",
       "      <td>3</td>\n",
       "      <td>1</td>\n",
       "      <td>1</td>\n",
       "      <td>1</td>\n",
       "      <td>10</td>\n",
       "      <td>12</td>\n",
       "      <td>3</td>\n",
       "      <td>12</td>\n",
       "      <td>0</td>\n",
       "      <td>39</td>\n",
       "      <td>5</td>\n",
       "      <td>5</td>\n",
       "      <td>6</td>\n",
       "      <td>1</td>\n",
       "    </tr>\n",
       "    <tr>\n",
       "      <th>true_class_11</th>\n",
       "      <td>47</td>\n",
       "      <td>0</td>\n",
       "      <td>1</td>\n",
       "      <td>4</td>\n",
       "      <td>7</td>\n",
       "      <td>13</td>\n",
       "      <td>113</td>\n",
       "      <td>89</td>\n",
       "      <td>0</td>\n",
       "      <td>2</td>\n",
       "      <td>128</td>\n",
       "      <td>18</td>\n",
       "      <td>7</td>\n",
       "      <td>13</td>\n",
       "    </tr>\n",
       "    <tr>\n",
       "      <th>true_class_12</th>\n",
       "      <td>16</td>\n",
       "      <td>0</td>\n",
       "      <td>1</td>\n",
       "      <td>1</td>\n",
       "      <td>22</td>\n",
       "      <td>15</td>\n",
       "      <td>7</td>\n",
       "      <td>42</td>\n",
       "      <td>0</td>\n",
       "      <td>0</td>\n",
       "      <td>14</td>\n",
       "      <td>104</td>\n",
       "      <td>15</td>\n",
       "      <td>10</td>\n",
       "    </tr>\n",
       "    <tr>\n",
       "      <th>true_class_13</th>\n",
       "      <td>6</td>\n",
       "      <td>3</td>\n",
       "      <td>1</td>\n",
       "      <td>2</td>\n",
       "      <td>19</td>\n",
       "      <td>28</td>\n",
       "      <td>1</td>\n",
       "      <td>17</td>\n",
       "      <td>1</td>\n",
       "      <td>0</td>\n",
       "      <td>8</td>\n",
       "      <td>5</td>\n",
       "      <td>229</td>\n",
       "      <td>13</td>\n",
       "    </tr>\n",
       "    <tr>\n",
       "      <th>true_class_14</th>\n",
       "      <td>32</td>\n",
       "      <td>0</td>\n",
       "      <td>0</td>\n",
       "      <td>11</td>\n",
       "      <td>16</td>\n",
       "      <td>22</td>\n",
       "      <td>18</td>\n",
       "      <td>39</td>\n",
       "      <td>0</td>\n",
       "      <td>0</td>\n",
       "      <td>26</td>\n",
       "      <td>9</td>\n",
       "      <td>15</td>\n",
       "      <td>198</td>\n",
       "    </tr>\n",
       "  </tbody>\n",
       "</table>\n",
       "</div>"
      ],
      "text/plain": [
       "               pred_class_1  pred_class_2  pred_class_3  pred_class_4  \\\n",
       "true_class_1            243             0             1             0   \n",
       "true_class_2              0           377             1             1   \n",
       "true_class_3              0             0            95             2   \n",
       "true_class_4              2             0             0           176   \n",
       "true_class_5              9             1             1             4   \n",
       "true_class_6             23             6             0             4   \n",
       "true_class_7            102             0             0             0   \n",
       "true_class_8             42             1             0             4   \n",
       "true_class_9              0             1             0             0   \n",
       "true_class_10             3             1             1             1   \n",
       "true_class_11            47             0             1             4   \n",
       "true_class_12            16             0             1             1   \n",
       "true_class_13             6             3             1             2   \n",
       "true_class_14            32             0             0            11   \n",
       "\n",
       "               pred_class_5  pred_class_6  pred_class_7  pred_class_8  \\\n",
       "true_class_1              4             4            74            31   \n",
       "true_class_2              2             2             0             1   \n",
       "true_class_3              2             5             1             2   \n",
       "true_class_4              1             4             1             9   \n",
       "true_class_5            306            27             2            12   \n",
       "true_class_6             25           267            16            43   \n",
       "true_class_7              2             3           148            51   \n",
       "true_class_8              7            20            68           168   \n",
       "true_class_9              3             6             0             5   \n",
       "true_class_10            10            12             3            12   \n",
       "true_class_11             7            13           113            89   \n",
       "true_class_12            22            15             7            42   \n",
       "true_class_13            19            28             1            17   \n",
       "true_class_14            16            22            18            39   \n",
       "\n",
       "               pred_class_9  pred_class_10  pred_class_11  pred_class_12  \\\n",
       "true_class_1              0              0             26              2   \n",
       "true_class_2              0              1              0              0   \n",
       "true_class_3              0              0              0              0   \n",
       "true_class_4              0              0              1              4   \n",
       "true_class_5              0              0              1              6   \n",
       "true_class_6              0              0              9              5   \n",
       "true_class_7              0              0             67              3   \n",
       "true_class_8              0              1             37             17   \n",
       "true_class_9             11              0              1              2   \n",
       "true_class_10             0             39              5              5   \n",
       "true_class_11             0              2            128             18   \n",
       "true_class_12             0              0             14            104   \n",
       "true_class_13             1              0              8              5   \n",
       "true_class_14             0              0             26              9   \n",
       "\n",
       "               pred_class_13  pred_class_14  \n",
       "true_class_1               0              2  \n",
       "true_class_2               0              0  \n",
       "true_class_3               2              2  \n",
       "true_class_4               0              5  \n",
       "true_class_5               7              2  \n",
       "true_class_6              11              7  \n",
       "true_class_7               0              4  \n",
       "true_class_8               5              8  \n",
       "true_class_9               8              0  \n",
       "true_class_10              6              1  \n",
       "true_class_11              7             13  \n",
       "true_class_12             15             10  \n",
       "true_class_13            229             13  \n",
       "true_class_14             15            198  "
      ]
     },
     "execution_count": 47,
     "metadata": {},
     "output_type": "execute_result"
    }
   ],
   "source": [
    "test_cm_df"
   ]
  },
  {
   "cell_type": "markdown",
   "metadata": {},
   "source": [
    "From the above plot, we can easily understand the importance of different features. I calculated ration of (sin(theta))^2 using the a=[(sin(theta))^2 at the first peak]. According to the graph, the most important features are,\n",
    "\n",
    "(1) Standard  deviation of the (sin(theta))^2/a values at the peaks. How the peak planes are spreaded\n",
    "\n",
    "(2) (sin(theta))^2/a for the 2nd peak. This value can easily identify symmetric crystal. For example, for cP it should be just 2 \n",
    "\n",
    "(3) Ration of total peaks to (sin(theta))^2/a. This value also gives the information of symmetry.\n",
    "\n",
    "(4) Maximum value of (sin(theta))^2/a. The higher the value the more allowable values for peak diffraction (information of symmetry)\n",
    "\n",
    "(5) (6) (7) 2nd, 3rd and 4th coefficient of DST transform. In other words, it takes information of the dominant peaks along with the full spectrum\n",
    "\n",
    "(8) (9) Meand and standard deviation of the peak heights are also important. However, their contribution to the determination of the crystal structure is not that high as like the sine of the peak angles. The model also shows that."
   ]
  },
  {
   "cell_type": "markdown",
   "metadata": {},
   "source": [
    "## Light GBM Classifier (Gradient Boost Classifier)"
   ]
  },
  {
   "cell_type": "markdown",
   "metadata": {},
   "source": [
    "Since for random forest classifier, I have already optimized the features, I will use that feature to optimize this light gbm classifier. Also since n_estimators=1000 gives the best result for random forest classifier, I will use the same n_estimators for this model. Similarly min_samples_leaf (equivalent to min_child_samples in LGBM) of 1 and min_samples_split of 2 give the best result for Random Forest Classifier model, therefore I will use those same parameters for these model too."
   ]
  },
  {
   "cell_type": "code",
   "execution_count": 79,
   "metadata": {},
   "outputs": [],
   "source": [
    "from lightgbm import LGBMClassifier\n",
    "lightgbm_model = LGBMClassifier(random_state=0,n_estimators=1000, reg_alpha='1', lambda_l2='1', min_child_samples=1, min_samples_split=2, n_jobs=-1)"
   ]
  },
  {
   "cell_type": "code",
   "execution_count": 80,
   "metadata": {},
   "outputs": [
    {
     "name": "stdout",
     "output_type": "stream",
     "text": [
      "[LightGBM] [Warning] Unknown parameter: min_samples_split\n",
      "[LightGBM] [Warning] lambda_l2 is set=1, reg_lambda=0.0 will be ignored. Current value: lambda_l2=1\n"
     ]
    },
    {
     "data": {
      "text/plain": [
       "[0.9999734268707483, 0.599713055954089]"
      ]
     },
     "execution_count": 80,
     "metadata": {},
     "output_type": "execute_result"
    }
   ],
   "source": [
    "lightgbm_model.fit(x_train_scaled_30_30, y_train_30_30)\n",
    "y_pred_train_lgbm_30_30 = lightgbm_model.predict(x_train_scaled_30_30)\n",
    "y_pred_test_lgbm_30_30 = lightgbm_model.predict(x_test_scaled_30_30)\n",
    "[(y_train_30_30 == y_pred_train_lgbm_30_30).sum()/x_train_scaled_30_30.shape[0], (y_test_30_30 == y_pred_test_lgbm_30_30).sum()/x_test_scaled_30_30.shape[0]]"
   ]
  },
  {
   "cell_type": "code",
   "execution_count": 81,
   "metadata": {},
   "outputs": [
    {
     "data": {
      "text/plain": [
       "(0.9999734268707483, 0.599713055954089)"
      ]
     },
     "execution_count": 81,
     "metadata": {},
     "output_type": "execute_result"
    }
   ],
   "source": [
    "accuracy_train_lgbm_30_30=(y_train_30_30 == y_pred_train_lgbm_30_30).sum()/x_train_scaled_30_30.shape[0]\n",
    "accuracy_test_lgbm_30_30=(y_test_30_30 == y_pred_test_lgbm_30_30).sum()/x_test_scaled_30_30.shape[0]\n",
    "accuracy_train_lgbm_30_30, accuracy_test_lgbm_30_30"
   ]
  },
  {
   "cell_type": "markdown",
   "metadata": {},
   "source": [
    "As it can be seen with the light gbm model the accuracy is 59.97% for the unseen data whereas for the random forest classifier model it was 59.5%. Therefore, by far this is the best model.\n",
    "\n",
    "In order to optimize the parameters, I will vary reg_alpha and lambda_l2 and check the accuracy on the test data to optimize the mdoel since test data is unseen to the model and therefore it is fair to judge the model based on this performance. "
   ]
  },
  {
   "cell_type": "code",
   "execution_count": 82,
   "metadata": {},
   "outputs": [
    {
     "name": "stdout",
     "output_type": "stream",
     "text": [
      "[LightGBM] [Warning] Unknown parameter: min_samples_split\n",
      "[LightGBM] [Warning] lambda_l2 is set=0, reg_lambda=0.0 will be ignored. Current value: lambda_l2=0\n"
     ]
    },
    {
     "data": {
      "text/plain": [
       "0.5915829746532759"
      ]
     },
     "execution_count": 82,
     "metadata": {},
     "output_type": "execute_result"
    }
   ],
   "source": [
    "# Decreasing lambda_l2\n",
    "light1=LGBMClassifier(random_state=0,n_estimators=1000, reg_alpha='1', lambda_l2='0', min_child_samples=1, min_samples_split=2, n_jobs=-1)\n",
    "light1.fit(x_train_scaled_30_30, y_train_30_30)\n",
    "y_pred_train_lgbm_30_30 = light1.predict(x_train_scaled_30_30)\n",
    "y_pred_test_lgbm_30_30 = light1.predict(x_test_scaled_30_30)\n",
    "(y_test_30_30 == y_pred_test_lgbm_30_30).sum()/x_test_scaled_30_30.shape[0]"
   ]
  },
  {
   "cell_type": "code",
   "execution_count": 83,
   "metadata": {},
   "outputs": [
    {
     "name": "stdout",
     "output_type": "stream",
     "text": [
      "[LightGBM] [Warning] Unknown parameter: min_samples_split\n",
      "[LightGBM] [Warning] lambda_l2 is set=0.5, reg_lambda=0.0 will be ignored. Current value: lambda_l2=0.5\n"
     ]
    },
    {
     "data": {
      "text/plain": [
       "0.59636537541846"
      ]
     },
     "execution_count": 83,
     "metadata": {},
     "output_type": "execute_result"
    }
   ],
   "source": [
    "# Decreasing lambda_l2\n",
    "light1=LGBMClassifier(random_state=0,n_estimators=1000, reg_alpha='1', lambda_l2='0.5', min_child_samples=1, min_samples_split=2, n_jobs=-1)\n",
    "light1.fit(x_train_scaled_30_30, y_train_30_30)\n",
    "y_pred_train_lgbm_30_30 = light1.predict(x_train_scaled_30_30)\n",
    "y_pred_test_lgbm_30_30 = light1.predict(x_test_scaled_30_30)\n",
    "(y_test_30_30 == y_pred_test_lgbm_30_30).sum()/x_test_scaled_30_30.shape[0]"
   ]
  },
  {
   "cell_type": "code",
   "execution_count": 84,
   "metadata": {},
   "outputs": [
    {
     "name": "stdout",
     "output_type": "stream",
     "text": [
      "[LightGBM] [Warning] Unknown parameter: min_samples_split\n",
      "[LightGBM] [Warning] lambda_l2 is set=1, reg_lambda=0.0 will be ignored. Current value: lambda_l2=1\n"
     ]
    },
    {
     "data": {
      "text/plain": [
       "0.6068866571018652"
      ]
     },
     "execution_count": 84,
     "metadata": {},
     "output_type": "execute_result"
    }
   ],
   "source": [
    "# Decreasing reg_alpha\n",
    "light1=LGBMClassifier(random_state=0,n_estimators=1000, reg_alpha='0', lambda_l2='1', min_child_samples=1, min_samples_split=2, n_jobs=-1)\n",
    "light1.fit(x_train_scaled_30_30, y_train_30_30)\n",
    "y_pred_train_lgbm_30_30 = light1.predict(x_train_scaled_30_30)\n",
    "y_pred_test_lgbm_30_30 = light1.predict(x_test_scaled_30_30)\n",
    "(y_test_30_30 == y_pred_test_lgbm_30_30).sum()/x_test_scaled_30_30.shape[0]"
   ]
  },
  {
   "cell_type": "code",
   "execution_count": 85,
   "metadata": {},
   "outputs": [
    {
     "name": "stdout",
     "output_type": "stream",
     "text": [
      "[LightGBM] [Warning] Unknown parameter: min_samples_split\n",
      "[LightGBM] [Warning] lambda_l2 is set=1, reg_lambda=0.0 will be ignored. Current value: lambda_l2=1\n"
     ]
    },
    {
     "data": {
      "text/plain": [
       "0.6035389765662362"
      ]
     },
     "execution_count": 85,
     "metadata": {},
     "output_type": "execute_result"
    }
   ],
   "source": [
    "# Decreasing reg_alpha\n",
    "light1=LGBMClassifier(random_state=0,n_estimators=1000, reg_alpha='0.5', lambda_l2='1', min_child_samples=1, min_samples_split=2, n_jobs=-1)\n",
    "light1.fit(x_train_scaled_30_30, y_train_30_30)\n",
    "y_pred_train_lgbm_30_30 = light1.predict(x_train_scaled_30_30)\n",
    "y_pred_test_lgbm_30_30 = light1.predict(x_test_scaled_30_30)\n",
    "(y_test_30_30 == y_pred_test_lgbm_30_30).sum()/x_test_scaled_30_30.shape[0]"
   ]
  },
  {
   "cell_type": "code",
   "execution_count": 86,
   "metadata": {},
   "outputs": [
    {
     "name": "stdout",
     "output_type": "stream",
     "text": [
      "[LightGBM] [Warning] Unknown parameter: min_samples_split\n",
      "[LightGBM] [Warning] lambda_l2 is set=2, reg_lambda=0.0 will be ignored. Current value: lambda_l2=2\n"
     ]
    },
    {
     "data": {
      "text/plain": [
       "0.6016260162601627"
      ]
     },
     "execution_count": 86,
     "metadata": {},
     "output_type": "execute_result"
    }
   ],
   "source": [
    "# Increasing lambda_l2\n",
    "light1=LGBMClassifier(random_state=0,n_estimators=1000, reg_alpha='1', lambda_l2='2', min_child_samples=1, min_samples_split=2, n_jobs=-1)\n",
    "light1.fit(x_train_scaled_30_30, y_train_30_30)\n",
    "y_pred_train_lgbm_30_30 = light1.predict(x_train_scaled_30_30)\n",
    "y_pred_test_lgbm_30_30 = light1.predict(x_test_scaled_30_30)\n",
    "(y_test_30_30 == y_pred_test_lgbm_30_30).sum()/x_test_scaled_30_30.shape[0]"
   ]
  },
  {
   "cell_type": "code",
   "execution_count": 87,
   "metadata": {},
   "outputs": [
    {
     "name": "stdout",
     "output_type": "stream",
     "text": [
      "[LightGBM] [Warning] Unknown parameter: min_samples_split\n",
      "[LightGBM] [Warning] lambda_l2 is set=1, reg_lambda=0.0 will be ignored. Current value: lambda_l2=1\n"
     ]
    },
    {
     "data": {
      "text/plain": [
       "0.5982783357245337"
      ]
     },
     "execution_count": 87,
     "metadata": {},
     "output_type": "execute_result"
    }
   ],
   "source": [
    "# Increasing reg_alpha\n",
    "light1=LGBMClassifier(random_state=0,n_estimators=1000, reg_alpha='2', lambda_l2='1', min_child_samples=1, min_samples_split=2, n_jobs=-1)\n",
    "light1.fit(x_train_scaled_30_30, y_train_30_30)\n",
    "y_pred_train_lgbm_30_30 = light1.predict(x_train_scaled_30_30)\n",
    "y_pred_test_lgbm_30_30 = light1.predict(x_test_scaled_30_30)\n",
    "(y_test_30_30 == y_pred_test_lgbm_30_30).sum()/x_test_scaled_30_30.shape[0]"
   ]
  },
  {
   "cell_type": "markdown",
   "metadata": {},
   "source": [
    "From the model accuracy scores for different lambda_l2 and reg_alpha, it can be easily seen that, the highest accuracy can be obtained for reg_alpha=0 and lambda_l2=1. Therefore these parameters are chosen for the final model."
   ]
  },
  {
   "cell_type": "code",
   "execution_count": 94,
   "metadata": {},
   "outputs": [
    {
     "name": "stdout",
     "output_type": "stream",
     "text": [
      "[LightGBM] [Warning] Unknown parameter: min_samples_split\n",
      "[LightGBM] [Warning] lambda_l2 is set=1, reg_lambda=0.0 will be ignored. Current value: lambda_l2=1\n"
     ]
    }
   ],
   "source": [
    "light_final=LGBMClassifier(random_state=0,n_estimators=1000, reg_alpha='0', lambda_l2='1', min_child_samples=1, min_samples_split=2, n_jobs=-1)\n",
    "light_final.fit(x_train_scaled_30_30, y_train_30_30)\n",
    "y_pred_train_lgbm_30_30 = light_final.predict(x_train_scaled_30_30)\n",
    "y_pred_test_lgbm_30_30 = light_final.predict(x_test_scaled_30_30)\n",
    "accuracy_test_lgbm=(y_test_30_30 == y_pred_test_lgbm_30_30).sum()/x_test_scaled_30_30.shape[0]\n",
    "accuracy_train_lgbm=(y_train_30_30 == y_pred_train_lgbm_30_30).sum()/x_train_scaled_30_30.shape[0]"
   ]
  },
  {
   "cell_type": "code",
   "execution_count": 95,
   "metadata": {},
   "outputs": [
    {
     "data": {
      "text/plain": [
       "0.6068866571018652"
      ]
     },
     "execution_count": 95,
     "metadata": {},
     "output_type": "execute_result"
    }
   ],
   "source": [
    "accuracy_test_lgbm"
   ]
  },
  {
   "cell_type": "markdown",
   "metadata": {},
   "source": [
    "The accuracy of the light gbm classifier (gradient boost classifier) is 60.69%"
   ]
  },
  {
   "cell_type": "markdown",
   "metadata": {},
   "source": [
    "# Finding accuracy of GaussianNB and KNN with 30_30"
   ]
  },
  {
   "cell_type": "code",
   "execution_count": 97,
   "metadata": {},
   "outputs": [
    {
     "data": {
      "text/plain": [
       "0.296987087517934"
      ]
     },
     "execution_count": 97,
     "metadata": {},
     "output_type": "execute_result"
    }
   ],
   "source": [
    "# Gaussian NB\n",
    "gnb = GaussianNB()\n",
    "gnb.fit(x_train_scaled_30_30, y_train_30_30)\n",
    "y_pred_test_gnb = gnb.predict(x_test_scaled_30_30)\n",
    "accuracy_test_gnb=(y_test_30_30 == y_pred_test_gnb).sum()/x_test_scaled_30_30.shape[0]\n",
    "accuracy_test_gnb"
   ]
  },
  {
   "cell_type": "code",
   "execution_count": 98,
   "metadata": {},
   "outputs": [
    {
     "data": {
      "text/plain": [
       "0.4815877570540411"
      ]
     },
     "execution_count": 98,
     "metadata": {},
     "output_type": "execute_result"
    }
   ],
   "source": [
    "# KNN\n",
    "knn = KNeighborsClassifier(n_jobs=-1,p=1,n_neighbors=5)\n",
    "knn.fit(x_train_scaled_30_30, y_train_30_30)\n",
    "y_pred_test_knn = knn.predict(x_test_scaled_30_30)\n",
    "accuracy_test_knn=(y_test_30_30 == y_pred_test_knn).sum()/x_test_scaled_30_30.shape[0]\n",
    "accuracy_test_knn"
   ]
  },
  {
   "cell_type": "markdown",
   "metadata": {},
   "source": [
    "The accuracy of different models:\n",
    "\n",
    "GaussianNB: 29.69%\n",
    "\n",
    "KNN: 48.158%\n",
    "\n",
    "Random Forest Classifier: 59.52%\n",
    "\n",
    "Light GBM Classifier:60.69%"
   ]
  },
  {
   "cell_type": "markdown",
   "metadata": {},
   "source": [
    "## Prediction"
   ]
  },
  {
   "cell_type": "code",
   "execution_count": 99,
   "metadata": {},
   "outputs": [],
   "source": [
    "nbin_sin2theta=30;start_bin=1;end_bin=11;dst_coeff=30;\n",
    "base_feature_kaggle,final_feature_kaggle_45_20=calculate_features(kaggle_data_filepath,nbin_sin2theta,start_bin,end_bin,dst_coeff)"
   ]
  },
  {
   "cell_type": "code",
   "execution_count": 105,
   "metadata": {},
   "outputs": [],
   "source": [
    "minmax_scaler_30_30=minmax_scaler\n",
    "minmax_scaler_30_30.fit(x_train_30_30)\n",
    "testtt=minmax_scaler_30_30.transform(final_feature_kaggle_45_20)"
   ]
  },
  {
   "cell_type": "code",
   "execution_count": 112,
   "metadata": {},
   "outputs": [],
   "source": [
    "y_pred_test_lgbm_30_30k = light_final.predict(testtt)\n"
   ]
  },
  {
   "cell_type": "code",
   "execution_count": 113,
   "metadata": {},
   "outputs": [],
   "source": [
    "data_filepath_test=\"C:\\\\Users\\\\Raihan\\\\Nano281_project\\\\test.csv\"\n",
    "testt_data=pd.read_csv(data_filepath_test,na_filter=False)\n",
    "\n",
    "test_predicted_data_lgbm_45=pd.DataFrame(testt_data['id'],columns=['id'])\n",
    "test_predicted_data_lgbm_45['bravais_lattice']=le.inverse_transform(y_pred_test_lgbm_30_30k)\n",
    "test_data_out_lgbm_45_filepath=\"C:\\\\Users\\\\Raihan\\\\Nano281_project\\\\test_out_v10.csv\"\n",
    "test_predicted_data_lgbm_45.to_csv(test_data_out_lgbm_45_filepath,index=False)"
   ]
  },
  {
   "cell_type": "markdown",
   "metadata": {},
   "source": [
    "# Saving Model"
   ]
  },
  {
   "cell_type": "code",
   "execution_count": 116,
   "metadata": {},
   "outputs": [],
   "source": [
    "import pickle\n",
    "with open('Mohammad Abu_Raihan Miah_random_forest_classifier.pkl',\"wb\") as f:\n",
    "    pickle.dump(rf1_30_30, f)"
   ]
  },
  {
   "cell_type": "code",
   "execution_count": 117,
   "metadata": {},
   "outputs": [],
   "source": [
    "import pickle\n",
    "with open('Mohammad Abu_Raihan Miah_light_gbm.pkl',\"wb\") as f:\n",
    "    pickle.dump(lightgbm_model, f)"
   ]
  },
  {
   "cell_type": "code",
   "execution_count": 119,
   "metadata": {},
   "outputs": [],
   "source": [
    "with open('Mohammad Abu_Raihan Miah_random_forest_classifier2.pkl',\"wb\") as f:\n",
    "    pickle.dump(rf1_45, f)"
   ]
  },
  {
   "cell_type": "code",
   "execution_count": 120,
   "metadata": {},
   "outputs": [],
   "source": [
    "with open('Mohammad Abu_Raihan Miah_knn.pkl',\"wb\") as f:\n",
    "    pickle.dump(knn, f)"
   ]
  },
  {
   "cell_type": "code",
   "execution_count": 121,
   "metadata": {},
   "outputs": [],
   "source": [
    "with open('Mohammad Abu_Raihan Miah_light_gbm2.pkl',\"wb\") as f:\n",
    "    pickle.dump(light_final, f)"
   ]
  },
  {
   "cell_type": "code",
   "execution_count": null,
   "metadata": {},
   "outputs": [],
   "source": []
  }
 ],
 "metadata": {
  "kernelspec": {
   "display_name": "Python 3",
   "language": "python",
   "name": "python3"
  },
  "language_info": {
   "codemirror_mode": {
    "name": "ipython",
    "version": 3
   },
   "file_extension": ".py",
   "mimetype": "text/x-python",
   "name": "python",
   "nbconvert_exporter": "python",
   "pygments_lexer": "ipython3",
   "version": "3.7.9"
  }
 },
 "nbformat": 4,
 "nbformat_minor": 4
}
